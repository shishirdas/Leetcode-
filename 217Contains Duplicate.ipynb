{
 "cells": [
  {
   "cell_type": "markdown",
   "metadata": {},
   "source": [
    "#### Contains Duplicate\n",
    "\n",
    "Given an integer array nums, return true if any value appears at least twice in the array, and return false if every element is distinct.<br>\n",
    "\n",
    "Example 1:<br>\n",
    "Input: nums = [1,2,3,1]<br>\n",
    "Output: true<br>\n",
    "\n",
    "Example 2:\n",
    "Input: nums = [1,2,3,4]<br>\n",
    "Output: false<br>\n",
    "\n",
    "Example 3:\n",
    "Input: nums = [1,1,1,3,3,4,3,2,4,2]<br>\n",
    "Output: true<br>"
   ]
  },
  {
   "cell_type": "code",
   "execution_count": 12,
   "metadata": {},
   "outputs": [],
   "source": [
    "def containsDuplicate(nums):\n",
    "\n",
    "    # solution 1\n",
    "    return len(nums) != len(set(nums))\n",
    "\n",
    "    "
   ]
  },
  {
   "cell_type": "code",
   "execution_count": 13,
   "metadata": {},
   "outputs": [
    {
     "name": "stdout",
     "output_type": "stream",
     "text": [
      "True\n",
      "-----------------------------\n",
      "False\n",
      "-----------------------------\n",
      "True\n"
     ]
    }
   ],
   "source": [
    "p2_example_1 = containsDuplicate([1,2,3,1])\n",
    "print(p2_example_1)\n",
    "\n",
    "print(\"-----------------------------\")\n",
    "\n",
    "p2_example_2 = containsDuplicate([1,2,3,4])\n",
    "print(p2_example_2)\n",
    "\n",
    "print(\"-----------------------------\")\n",
    "\n",
    "p2_example_3 = containsDuplicate([1,1,1,3,3,4,3,2,4,2])\n",
    "print(p2_example_3)"
   ]
  },
  {
   "cell_type": "markdown",
   "metadata": {},
   "source": [
    "### Another Solution "
   ]
  },
  {
   "cell_type": "code",
   "execution_count": 14,
   "metadata": {},
   "outputs": [],
   "source": [
    "# solution 2\n",
    "def containsDuplicate(nums):\n",
    "    nums = sorted(nums)\n",
    "    print(nums)\n",
    "    for index in range(len(nums)-1):\n",
    "        if nums[index] == nums[index+1]:\n",
    "            \n",
    "            return True"
   ]
  },
  {
   "cell_type": "code",
   "execution_count": 16,
   "metadata": {},
   "outputs": [
    {
     "name": "stdout",
     "output_type": "stream",
     "text": [
      "[1, 2, 5, 5]\n",
      "True\n",
      "-----------------------------\n",
      "[1, 2, 3, 4]\n",
      "None\n",
      "-----------------------------\n",
      "[1, 1, 1, 2, 2, 3, 3, 3, 4, 4]\n",
      "True\n"
     ]
    }
   ],
   "source": [
    "p2_example_1 = containsDuplicate([1,2,5,5])\n",
    "print(p2_example_1)\n",
    "\n",
    "print(\"-----------------------------\")\n",
    "\n",
    "p2_example_2 = containsDuplicate([1,2,3,4])\n",
    "print(p2_example_2)\n",
    "\n",
    "print(\"-----------------------------\")\n",
    "\n",
    "p2_example_3 = containsDuplicate([1,1,1,3,3,4,3,2,4,2])\n",
    "print(p2_example_3)"
   ]
  },
  {
   "cell_type": "code",
   "execution_count": null,
   "metadata": {},
   "outputs": [],
   "source": []
  }
 ],
 "metadata": {
  "kernelspec": {
   "display_name": "Python 3",
   "language": "python",
   "name": "python3"
  },
  "language_info": {
   "codemirror_mode": {
    "name": "ipython",
    "version": 3
   },
   "file_extension": ".py",
   "mimetype": "text/x-python",
   "name": "python",
   "nbconvert_exporter": "python",
   "pygments_lexer": "ipython3",
   "version": "3.7.4"
  }
 },
 "nbformat": 4,
 "nbformat_minor": 2
}
