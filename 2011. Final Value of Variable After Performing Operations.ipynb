{
 "cells": [
  {
   "cell_type": "markdown",
   "metadata": {},
   "source": [
    "### There is a programming language with only four operations and one variable X:\n",
    "\n",
    "++X and X++ increments the value of the variable X by 1.<br>\n",
    "--X and X-- decrements the value of the variable X by 1.<br>\n",
    "Initially, the value of X is 0.<br>\n",
    "\n",
    "Given an array of strings operations containing a list of operations, return the final value of X after performing all the operations.<br>\n",
    "Example 1:\n",
    "\n",
    "Input: operations = [\"--X\",\"X++\",\"X++\"] <br>\n",
    "Output: 1 <br>\n",
    "Explanation: The operations are performed as follows:<br>\n",
    "Initially, X = 0.<br>\n",
    "--X: X is decremented by 1, X =  0 - 1 = -1.<br>\n",
    "X++: X is incremented by 1, X = -1 + 1 =  0.<br>\n",
    "X++: X is incremented by 1, X =  0 + 1 =  1.<br>\n",
    "Example 2:<br>\n",
    "\n",
    "Input: operations = [\"++X\",\"++X\",\"X++\"]<br>\n",
    "Output: 3<br>\n",
    "Explanation: The operations are performed as follows:<br>\n",
    "Initially, X = 0.<br>\n",
    "++X: X is incremented by 1, X = 0 + 1 = 1.<br>\n",
    "++X: X is incremented by 1, X = 1 + 1 = 2.<br>\n",
    "X++: X is incremented by 1, X = 2 + 1 = 3.<br>\n",
    "\n",
    "\n",
    " "
   ]
  },
  {
   "cell_type": "code",
   "execution_count": 6,
   "metadata": {},
   "outputs": [],
   "source": [
    "class Solution:\n",
    "    def finalValueAfterOperations(self, operations) -> int:\n",
    "        x = 0\n",
    "        for operation in operations:\n",
    "            if operation == \"++X\" or operation == \"X++\":\n",
    "                x+=1\n",
    "            elif operation == \"--X\" or operation == \"X--\":\n",
    "                x-=1\n",
    "        return x\n",
    "            "
   ]
  },
  {
   "cell_type": "code",
   "execution_count": 8,
   "metadata": {},
   "outputs": [
    {
     "name": "stdout",
     "output_type": "stream",
     "text": [
      "3\n"
     ]
    }
   ],
   "source": [
    "sol = Solution()\n",
    "print(sol.finalValueAfterOperations([\"++X\",\"++X\",\"X++\"]))"
   ]
  },
  {
   "cell_type": "code",
   "execution_count": 9,
   "metadata": {},
   "outputs": [
    {
     "name": "stdout",
     "output_type": "stream",
     "text": [
      "1\n"
     ]
    }
   ],
   "source": [
    "print(sol.finalValueAfterOperations( [\"--X\",\"X++\",\"X++\"]))"
   ]
  },
  {
   "cell_type": "code",
   "execution_count": null,
   "metadata": {},
   "outputs": [],
   "source": []
  }
 ],
 "metadata": {
  "kernelspec": {
   "display_name": "Python 3",
   "language": "python",
   "name": "python3"
  },
  "language_info": {
   "codemirror_mode": {
    "name": "ipython",
    "version": 3
   },
   "file_extension": ".py",
   "mimetype": "text/x-python",
   "name": "python",
   "nbconvert_exporter": "python",
   "pygments_lexer": "ipython3",
   "version": "3.7.4"
  }
 },
 "nbformat": 4,
 "nbformat_minor": 2
}
