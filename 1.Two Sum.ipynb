{
 "cells": [
  {
   "cell_type": "markdown",
   "metadata": {},
   "source": [
    "#### 1.Two Sum\n",
    "\n",
    "\n",
    "Given an array of integers nums and an integer target, return indices of the two numbers such that they add up to target.<br>\n",
    "\n",
    "You may assume that each input would have exactly one solution, and you may not use the same element twice<br>\n",
    "\n",
    "You can return the answer in any order.<br>\n",
    "\n",
    "Example 1:\n",
    "Input: nums = [2,7,11,15], target = 9<br>\n",
    "Output: [0,1]\n",
    "Output: Because nums[0] + nums[1] == 9, we return [0, 1].<br>\n",
    "\n",
    "Example 2:\n",
    "Input: nums = [3,2,4], target = 6<br>\n",
    "Output: [1,2]<br>\n",
    "\n",
    "Example 3:\n",
    "Input: nums = [3,3], target = 6<br>\n",
    "Output: [0,1]<br>"
   ]
  },
  {
   "cell_type": "code",
   "execution_count": 2,
   "metadata": {},
   "outputs": [],
   "source": [
    "def twoSum(nums, target):\n",
    "\n",
    "    val_index_dict = {}\n",
    "\n",
    "    for index in range(0, len(nums)):\n",
    "        goal = target - nums[index]\n",
    "        print(\"x = \", goal, \"y = \", nums[index])\n",
    "\n",
    "        if(goal in val_index_dict):\n",
    "            print([val_index_dict[goal], index])\n",
    "            return [val_index_dict[goal], index]\n",
    "\n",
    "        val_index_dict[nums[index]] = index\n",
    "        print(\"dictionary = \", val_index_dict)"
   ]
  },
  {
   "cell_type": "code",
   "execution_count": 3,
   "metadata": {},
   "outputs": [
    {
     "name": "stdout",
     "output_type": "stream",
     "text": [
      "x =  7 y =  2\n",
      "dictionary =  {2: 0}\n",
      "x =  2 y =  7\n",
      "[0, 1]\n",
      "[0, 1]\n",
      "-----------------------------\n",
      "x =  3 y =  3\n",
      "dictionary =  {3: 0}\n",
      "x =  4 y =  2\n",
      "dictionary =  {3: 0, 2: 1}\n",
      "x =  2 y =  4\n",
      "[1, 2]\n",
      "[1, 2]\n",
      "-----------------------------\n",
      "x =  3 y =  3\n",
      "dictionary =  {3: 0}\n",
      "x =  3 y =  3\n",
      "[0, 1]\n",
      "[0, 1]\n"
     ]
    }
   ],
   "source": [
    "p3_example_1 = twoSum([2,7,11,15], 9)\n",
    "print(p3_example_1)\n",
    "\n",
    "print(\"-----------------------------\")\n",
    "\n",
    "p3_example_2 = twoSum([3,2,4], 6)\n",
    "print(p3_example_2)\n",
    "\n",
    "print(\"-----------------------------\")\n",
    "\n",
    "p3_example_3 = twoSum([3,3], 6)\n",
    "print(p3_example_3)"
   ]
  },
  {
   "cell_type": "code",
   "execution_count": null,
   "metadata": {},
   "outputs": [],
   "source": []
  }
 ],
 "metadata": {
  "kernelspec": {
   "display_name": "Python 3",
   "language": "python",
   "name": "python3"
  },
  "language_info": {
   "codemirror_mode": {
    "name": "ipython",
    "version": 3
   },
   "file_extension": ".py",
   "mimetype": "text/x-python",
   "name": "python",
   "nbconvert_exporter": "python",
   "pygments_lexer": "ipython3",
   "version": "3.7.4"
  }
 },
 "nbformat": 4,
 "nbformat_minor": 2
}
