{
 "cells": [
  {
   "cell_type": "markdown",
   "metadata": {},
   "source": [
    "#### 1470 Shuffle the Array\n",
    "\n",
    "Given the array nums consisting of 2n elements in the form [x_1,x_2,...,x_n,y_1,y_2,...,y_n].<br>\n",
    "\n",
    "Return the array in the form [x_1,y_1,x_2,y_2,...,x_n,y_n].<br>\n",
    "\n",
    "Example 1:\n",
    "Input: nums = [2,5,1,3,4,7], n = 3<br>\n",
    "Output: [2,3,5,4,1,7]<br>\n",
    "Explanation: Since x1=2, x2=5, x3=1, y1=3, y2=4, y3=7 then the answer is [2,3,5,4,1,7].<br>\n",
    "\n",
    "Example 2:<br>\n",
    "Input: nums = [1,2,3,4,4,3,2,1], n = 4<br>\n",
    "Output: [1,4,2,3,3,2,4,1]\n",
    "<br>\n",
    "Example 3:<br>\n",
    "Input: nums = [1,1,2,2], n = 2<br>\n",
    "Output: [1,2,1,2]"
   ]
  },
  {
   "cell_type": "code",
   "execution_count": 2,
   "metadata": {},
   "outputs": [],
   "source": [
    "def shuffle(nums, n):\n",
    "    \n",
    "    first_half = nums[:n]\n",
    "    last_half = nums[n:]\n",
    "    \n",
    "    shuffle = []\n",
    "    \n",
    "    for i in range(n):\n",
    "        shuffle.append(first_half[i])\n",
    "        \n",
    "        print(\"after adding first half = \", shuffle)\n",
    "        \n",
    "        shuffle.append(last_half[i])\n",
    "        \n",
    "        print(\"after adding last half = \", shuffle)\n",
    "        \n",
    "    return shuffle\n",
    "    "
   ]
  },
  {
   "cell_type": "code",
   "execution_count": 3,
   "metadata": {},
   "outputs": [
    {
     "name": "stdout",
     "output_type": "stream",
     "text": [
      "after adding first half =  [2]\n",
      "after adding last half =  [2, 3]\n",
      "after adding first half =  [2, 3, 5]\n",
      "after adding last half =  [2, 3, 5, 4]\n",
      "after adding first half =  [2, 3, 5, 4, 1]\n",
      "after adding last half =  [2, 3, 5, 4, 1, 7]\n",
      "[2, 3, 5, 4, 1, 7]\n",
      "----------------------------------------\n",
      "after adding first half =  [1]\n",
      "after adding last half =  [1, 4]\n",
      "after adding first half =  [1, 4, 2]\n",
      "after adding last half =  [1, 4, 2, 3]\n",
      "after adding first half =  [1, 4, 2, 3, 3]\n",
      "after adding last half =  [1, 4, 2, 3, 3, 2]\n",
      "after adding first half =  [1, 4, 2, 3, 3, 2, 4]\n",
      "after adding last half =  [1, 4, 2, 3, 3, 2, 4, 1]\n",
      "[1, 4, 2, 3, 3, 2, 4, 1]\n",
      "----------------------------------------\n",
      "after adding first half =  [1]\n",
      "after adding last half =  [1, 2]\n",
      "after adding first half =  [1, 2, 1]\n",
      "after adding last half =  [1, 2, 1, 2]\n",
      "[1, 2, 1, 2]\n"
     ]
    }
   ],
   "source": [
    "p3_example_1 = shuffle([2,5,1,3,4,7], 3)\n",
    "print(p3_example_1)\n",
    "print(\"----------------------------------------\")\n",
    "\n",
    "p3_example_2 = shuffle([1,2,3,4,4,3,2,1], 4)\n",
    "print(p3_example_2)\n",
    "print(\"----------------------------------------\")\n",
    "\n",
    "p3_example_3 = shuffle([1,1,2,2], 2)\n",
    "print(p3_example_3)"
   ]
  },
  {
   "cell_type": "code",
   "execution_count": null,
   "metadata": {},
   "outputs": [],
   "source": []
  }
 ],
 "metadata": {
  "kernelspec": {
   "display_name": "Python 3",
   "language": "python",
   "name": "python3"
  },
  "language_info": {
   "codemirror_mode": {
    "name": "ipython",
    "version": 3
   },
   "file_extension": ".py",
   "mimetype": "text/x-python",
   "name": "python",
   "nbconvert_exporter": "python",
   "pygments_lexer": "ipython3",
   "version": "3.7.4"
  }
 },
 "nbformat": 4,
 "nbformat_minor": 2
}
