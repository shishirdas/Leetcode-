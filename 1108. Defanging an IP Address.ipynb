{
 "cells": [
  {
   "cell_type": "markdown",
   "metadata": {},
   "source": [
    "#### Given a valid (IPv4) IP address, return a defanged version of that IP address.\n",
    "\n",
    "A defanged IP address replaces every period \".\" with \"[.]\".<br>\n",
    "\n",
    " \n",
    "\n",
    "Example 1:<br>\n",
    "\n",
    "Input: address = \"1.1.1.1\"<br>\n",
    "Output: \"1[.]1[.]1[.]1\"<br>\n",
    "Example 2:<br>\n",
    "\n",
    "Input: address = \"255.100.50.0\"<br>\n",
    "Output: \"255[.]100[.]50[.]0\"<br>\n",
    " \n",
    "\n",
    "Constraints:<br>\n",
    "\n",
    "The given address is a valid IPv4 address."
   ]
  },
  {
   "cell_type": "code",
   "execution_count": 9,
   "metadata": {},
   "outputs": [
    {
     "name": "stdout",
     "output_type": "stream",
     "text": [
      "1[.]1[.]1[.]1\n",
      "255[.]100[.]50[.]0\n"
     ]
    }
   ],
   "source": [
    "class Solution:\n",
    "    def defangIPaddr(self, address: str) -> str:\n",
    "        return address.replace(\".\", \"[.]\")\n",
    "\n",
    "# Example usage\n",
    "sol = Solution()\n",
    "print(sol.defangIPaddr(\"1.1.1.1\"))       # Output: \"1[.]1[.]1[.]1\"\n",
    "print(sol.defangIPaddr(\"255.100.50.0\"))  # Output: \"255[.]100[.]50[.]0\"\n"
   ]
  },
  {
   "cell_type": "code",
   "execution_count": null,
   "metadata": {},
   "outputs": [],
   "source": []
  }
 ],
 "metadata": {
  "kernelspec": {
   "display_name": "Python 3",
   "language": "python",
   "name": "python3"
  },
  "language_info": {
   "codemirror_mode": {
    "name": "ipython",
    "version": 3
   },
   "file_extension": ".py",
   "mimetype": "text/x-python",
   "name": "python",
   "nbconvert_exporter": "python",
   "pygments_lexer": "ipython3",
   "version": "3.7.4"
  }
 },
 "nbformat": 4,
 "nbformat_minor": 2
}
