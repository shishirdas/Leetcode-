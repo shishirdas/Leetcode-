{
 "cells": [
  {
   "cell_type": "markdown",
   "metadata": {},
   "source": [
    "####  Unique Morse Code Words\n",
    "\n",
    "International Morse Code defines a standard encoding where each letter is mapped to a series of dots and dashes, as follows: \"a\" maps to \".-\", \"b\" maps to \"-...\", \"c\" maps to \"-.-.\", and so on.<br>\n",
    "\n",
    "For convenience, the full table for the 26 letters of the English alphabet is given below:<br>\n",
    "\n",
    "[\".-\",\"-...\",\"-.-.\",\"-..\",\".\",\"..-.\",\"--.\",\"....\",\"..\",\".---\",\"-.-\",\".-..\",\"--\",\"-.\",\"---\",\".--.\",\"--.-\",\".-.\",\"...\",\"-\",\"..-\",\"...-\",\".--\",\"-..-\",\"-.--\",\"--..\"]<br>\n",
    "\n",
    "Now, given a list of words, each word can be written as a concatenation of the Morse code of each letter. For example, \"cab\" can be written as \"-.-..--...\", (which is the concatenation \"-.-.\" + \".-\" + \"-...\"). We'll call such a concatenation, the transformation of a word.<br>\n",
    "\n",
    "Return the number of different transformations among all words we have.<br>\n",
    "\n",
    "Example:\n",
    "Input: words = [\"gin\", \"zen\", \"gig\", \"msg\"]<br>\n",
    "Output: 2<br>\n",
    "Explanation:<br>\n",
    "The transformation of each word is:<br>\n",
    "\"gin\" -> \"--...-.\"<br>\n",
    "\"zen\" -> \"--...-.\"<br>\n",
    "\"gig\" -> \"--...--.\"<br>\n",
    "\"msg\" -> \"--...--.\"<br>\n",
    "\n",
    "There are 2 different transformations, \"--...-.\" and \"--...--.\".<br>"
   ]
  },
  {
   "cell_type": "code",
   "execution_count": 1,
   "metadata": {},
   "outputs": [],
   "source": [
    "def uniqueMorseRepresentations(words):\n",
    "\n",
    "    morse = {'a':\".-\", 'b':\"-...\", 'c':\"-.-.\", 'd':\"-..\", 'e':\".\",\n",
    "            'f':\"..-.\", 'g':\"--.\", 'h':\"....\", 'i':\"..\", 'j':\".---\",\n",
    "            'k':\"-.-\", 'l':\".-..\", 'm':\"--\", 'n':\"-.\", 'o':\"---\",\n",
    "             'p':\".--.\", 'q':\"--.-\", 'r':\".-.\", 's':\"...\", 't':\"-\",\n",
    "             'u':\"..-\", 'v':\"...-\", 'w':\".--\", 'x':\"-..-\", 'y':\"-.--\",\n",
    "             'z':\"--..\"}\n",
    "\n",
    "    morse_signal = \"\"\n",
    "    morse_list = []\n",
    "    \n",
    "    for word in words:\n",
    "        for char in word:\n",
    "            morse_signal += morse[char]\n",
    "\n",
    "        morse_list.append(morse_signal)\n",
    "        morse_signal = \"\"\n",
    "        print(morse_list)\n",
    "\n",
    "    return len(set(morse_list))"
   ]
  },
  {
   "cell_type": "code",
   "execution_count": 2,
   "metadata": {},
   "outputs": [
    {
     "name": "stdout",
     "output_type": "stream",
     "text": [
      "['--...-.']\n",
      "['--...-.', '--...-.']\n",
      "['--...-.', '--...-.', '--...--.']\n",
      "['--...-.', '--...-.', '--...--.', '--...--.']\n",
      "2\n"
     ]
    }
   ],
   "source": [
    "p5_example = uniqueMorseRepresentations([\"gin\", \"zen\", \"gig\", \"msg\"])\n",
    "print(p5_example)"
   ]
  },
  {
   "cell_type": "code",
   "execution_count": null,
   "metadata": {},
   "outputs": [],
   "source": []
  }
 ],
 "metadata": {
  "kernelspec": {
   "display_name": "Python 3",
   "language": "python",
   "name": "python3"
  },
  "language_info": {
   "codemirror_mode": {
    "name": "ipython",
    "version": 3
   },
   "file_extension": ".py",
   "mimetype": "text/x-python",
   "name": "python",
   "nbconvert_exporter": "python",
   "pygments_lexer": "ipython3",
   "version": "3.7.4"
  }
 },
 "nbformat": 4,
 "nbformat_minor": 2
}
