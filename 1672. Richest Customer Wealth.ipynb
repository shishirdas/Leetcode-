{
 "cells": [
  {
   "cell_type": "markdown",
   "metadata": {},
   "source": [
    "#### 1672. Richest Customer Wealth\n",
    "You are given an m x n integer grid accounts where accounts[i][j] is the amount of money the i-th customer has in the j-th bank. Return the wealth that the richest customer has.<br>\n",
    "\n",
    "A customer's wealth is the amount of money they have in all their bank accounts. The richest customer is the customer that has the maximum wealth.<br>\n",
    "\n",
    "Example 1:<br>\n",
    "Input: accounts = [[1,2,3],[3,2,1]]<br>\n",
    "Output: 6<br>\n",
    "Explanation:<br>\n",
    "1st customer has wealth = 1 + 2 + 3 = 6\n",
    "2nd customer has wealth = 3 + 2 + 1 = 6<br>\n",
    "Both customers are considered the richest with a wealth of 6 each, so return 6.\n",
    "\n",
    "Example 2:\n",
    "Input: accounts = [[1,5],[7,3],[3,5]]<br>\n",
    "Output: 10<br>\n",
    "Explanation:<br>\n",
    "1st customer has wealth = 6<br>\n",
    "2nd customer has wealth = 10\n",
    "3rd customer has wealth = 8<br>\n",
    "The 2nd customer is the richest with a wealth of 10.\n",
    "\n",
    "Example 3:<br>\n",
    "Input: accounts = [[2,8,7],[7,1,3],[1,9,5]]<br>\n",
    "Output: 17<br>\n",
    "\n"
   ]
  },
  {
   "cell_type": "code",
   "execution_count": 9,
   "metadata": {},
   "outputs": [],
   "source": [
    "def maximumWealth(accounts):\n",
    "    \n",
    "    wealth = []\n",
    "    \n",
    "    for element in range(len(accounts)):\n",
    "        \n",
    "        print(accounts[element])\n",
    "        \n",
    "        wealth.append(sum(accounts[element]))\n",
    "        \n",
    "    print(\"wealth = \", wealth)\n",
    "    return max(wealth)"
   ]
  },
  {
   "cell_type": "code",
   "execution_count": 10,
   "metadata": {},
   "outputs": [
    {
     "name": "stdout",
     "output_type": "stream",
     "text": [
      "[1, 2, 3]\n",
      "[3, 2, 1]\n",
      "wealth =  [6, 6]\n",
      "6\n",
      "----------------------------------------\n",
      "[1, 5]\n",
      "[7, 3]\n",
      "[3, 5]\n",
      "wealth =  [6, 10, 8]\n",
      "10\n",
      "----------------------------------------\n",
      "[2, 8, 7]\n",
      "[7, 1, 3]\n",
      "[1, 9, 5]\n",
      "wealth =  [17, 11, 15]\n",
      "17\n"
     ]
    }
   ],
   "source": [
    "p2_example_1 = maximumWealth([[1,2,3],[3,2,1]])\n",
    "print(p2_example_1)\n",
    "print(\"----------------------------------------\")\n",
    "\n",
    "p2_example_2 = maximumWealth([[1,5],[7,3],[3,5]])\n",
    "print(p2_example_2)\n",
    "print(\"----------------------------------------\")\n",
    "\n",
    "p2_example_3 = maximumWealth([[2,8,7],[7,1,3],[1,9,5]])\n",
    "print(p2_example_3)\n"
   ]
  },
  {
   "cell_type": "code",
   "execution_count": null,
   "metadata": {},
   "outputs": [],
   "source": []
  }
 ],
 "metadata": {
  "kernelspec": {
   "display_name": "Python 3",
   "language": "python",
   "name": "python3"
  },
  "language_info": {
   "codemirror_mode": {
    "name": "ipython",
    "version": 3
   },
   "file_extension": ".py",
   "mimetype": "text/x-python",
   "name": "python",
   "nbconvert_exporter": "python",
   "pygments_lexer": "ipython3",
   "version": "3.7.4"
  }
 },
 "nbformat": 4,
 "nbformat_minor": 2
}
