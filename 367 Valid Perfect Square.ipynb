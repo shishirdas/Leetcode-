{
 "cells": [
  {
   "cell_type": "markdown",
   "metadata": {},
   "source": [
    "#### 367 Valid Perfect Square\n",
    "\n",
    "Given a positive integer num, write a function which returns True if num is a perfect square else False.<br>\n",
    "\n",
    "Example 1:\n",
    "Input: num = 16<br>\n",
    "Output: true\n",
    "\n",
    "Example 2:\n",
    "Input: num = 14<br>\n",
    "Output: false"
   ]
  },
  {
   "cell_type": "code",
   "execution_count": 1,
   "metadata": {},
   "outputs": [],
   "source": [
    "def isPerfectSquare(num):\n",
    "    \n",
    "    print(\"square root = \", num**0.5)\n",
    "    \n",
    "    print(\"square root (integer part only) = \", int(num**0.5))\n",
    "    \n",
    "    return int(num**0.5) == num**0.5"
   ]
  },
  {
   "cell_type": "code",
   "execution_count": 2,
   "metadata": {},
   "outputs": [
    {
     "name": "stdout",
     "output_type": "stream",
     "text": [
      "square root =  3.7416573867739413\n",
      "square root (integer part only) =  3\n",
      "False\n",
      "----------------------------------------\n",
      "square root =  3.7416573867739413\n",
      "square root (integer part only) =  3\n",
      "False\n"
     ]
    }
   ],
   "source": [
    "p4_example_1 = isPerfectSquare(14)\n",
    "print(p4_example_1)\n",
    "print(\"----------------------------------------\")\n",
    "\n",
    "p4_example_2 = isPerfectSquare(14)\n",
    "print(p4_example_2)"
   ]
  },
  {
   "cell_type": "code",
   "execution_count": null,
   "metadata": {},
   "outputs": [],
   "source": []
  }
 ],
 "metadata": {
  "kernelspec": {
   "display_name": "Python 3",
   "language": "python",
   "name": "python3"
  },
  "language_info": {
   "codemirror_mode": {
    "name": "ipython",
    "version": 3
   },
   "file_extension": ".py",
   "mimetype": "text/x-python",
   "name": "python",
   "nbconvert_exporter": "python",
   "pygments_lexer": "ipython3",
   "version": "3.7.4"
  }
 },
 "nbformat": 4,
 "nbformat_minor": 2
}
