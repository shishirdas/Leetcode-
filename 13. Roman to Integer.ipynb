{
 "cells": [
  {
   "cell_type": "markdown",
   "metadata": {},
   "source": [
    "#### Roman to Integer\n",
    "\n",
    "Roman numerals are represented by seven different symbols: I, V, X, L, C, D and M.<br>\n",
    "\n",
    "values = {\"I\": 1,\"V\": 5,\"X\": 10,\"L\": 50,\"C\": 100,\"D\": 500,\"M\": 1000}<br>\n",
    "\n",
    "For example, 2 is written as II in Roman numeral, just two one's added together. 12 is written as XII, which is simply X + II. The number 27 is written as XXVII, which is XX + V + II.<br>\n",
    "\n",
    "Roman numerals are usually written largest to smallest from left to right. However, the numeral for four is not IIII. Instead, the number four is written as IV. Because the one is before the five we subtract it making four. The same principle applies to the number nine, which is written as IX. There are six instances where subtraction is used:<br>\n",
    "\n",
    "I can be placed before V (5) and X (10) to make 4 and 9.<br>\n",
    "X can be placed before L (50) and C (100) to make 40 and 90.<br>\n",
    "C can be placed before D (500) and M (1000) to make 400 and 900.<br>\n",
    "Given a roman numeral, convert it to an integer.<br>\n",
    "\n",
    "<h3>Example 1:<br></h3>\n",
    "Input: s = \"III\"<br>\n",
    "Output: 3\n",
    "\n",
    "<h3>Example 2:<br></h3>\n",
    "Input: s = \"IV\"<br>\n",
    "Output: 4\n",
    "\n",
    "<h3>Example 3:<br></h3>\n",
    "Input: s = \"IX\"<br>\n",
    "Output: 9\n",
    "\n",
    "<h3>Example 4:<br></h3>\n",
    "Input: s = \"LVIII\"<br>\n",
    "Output: 58<br>\n",
    "Explanation: L = 50, V= 5, III = 3.<br>\n",
    "\n",
    "<h3>Example 5:<br></h3>\n",
    "Input: s = \"MCMXCIV\"<br>\n",
    "Output: 1994<br>\n",
    "Explanation: M = 1000, CM = 900, XC = 90 and IV = 4.<br>\n",
    "\n",
    "<h1>Constraints:</h1>\n",
    "\n",
    "1. 1 <= s.length <= 15<br>\n",
    "2. s contains only the characters ('I', 'V', 'X', 'L', 'C', 'D', 'M').<br>\n",
    "3. It is guaranteed that s is a valid roman numeral in the range [1, 3999]."
   ]
  },
  {
   "cell_type": "code",
   "execution_count": 1,
   "metadata": {},
   "outputs": [],
   "source": [
    "values = {\"I\": 1,\"V\": 5,\"X\": 10,\"L\": 50,\"C\": 100,\"D\": 500,\"M\": 1000}\n",
    "\n",
    "def romanToInt(s):\n",
    "\n",
    "    total = 0\n",
    "    i = 0 #index\n",
    "    \n",
    "    while i < len(s):\n",
    "        \n",
    "        # If this is the subtractive case.\n",
    "        if i + 1 < len(s) and values[s[i]] < values[s[i + 1]]:\n",
    "\n",
    "            print(\"\\nsubtractive case\")\n",
    "            print(\"current digit, \", s[i], \" = \", values[s[i]])\n",
    "            print(\"next digit, \", s[i+1], \" = \", values[s[i+1]])\n",
    "\n",
    "            total += values[s[i + 1]] - values[s[i]]\n",
    "\n",
    "            print('total_by_subtraction = ', total)\n",
    "            print(\"----------------------\")\n",
    "            i += 2\n",
    "            \n",
    "        # Else this is NOT the subtractive case.\n",
    "        else:\n",
    "            print(\"current digit, \", s[i], \" = \", values[s[i]])\n",
    "            total += values[s[i]]\n",
    "            print('total_by_addition = ', total)\n",
    "            print(\"----------------------\")\n",
    "            i += 1\n",
    "            \n",
    "        print()\n",
    "    return total "
   ]
  },
  {
   "cell_type": "code",
   "execution_count": 2,
   "metadata": {},
   "outputs": [
    {
     "name": "stdout",
     "output_type": "stream",
     "text": [
      "current digit,  I  =  1\n",
      "total_by_addition =  1\n",
      "----------------------\n",
      "\n",
      "current digit,  I  =  1\n",
      "total_by_addition =  2\n",
      "----------------------\n",
      "\n",
      "current digit,  I  =  1\n",
      "total_by_addition =  3\n",
      "----------------------\n",
      "\n",
      "3\n",
      "-----------------------------------------------\n",
      "\n",
      "subtractive case\n",
      "current digit,  I  =  1\n",
      "next digit,  V  =  5\n",
      "total_by_subtraction =  4\n",
      "----------------------\n",
      "\n",
      "4\n",
      "-----------------------------------------------\n",
      "\n",
      "subtractive case\n",
      "current digit,  I  =  1\n",
      "next digit,  X  =  10\n",
      "total_by_subtraction =  9\n",
      "----------------------\n",
      "\n",
      "9\n",
      "-----------------------------------------------\n",
      "current digit,  L  =  50\n",
      "total_by_addition =  50\n",
      "----------------------\n",
      "\n",
      "current digit,  V  =  5\n",
      "total_by_addition =  55\n",
      "----------------------\n",
      "\n",
      "current digit,  I  =  1\n",
      "total_by_addition =  56\n",
      "----------------------\n",
      "\n",
      "current digit,  I  =  1\n",
      "total_by_addition =  57\n",
      "----------------------\n",
      "\n",
      "current digit,  I  =  1\n",
      "total_by_addition =  58\n",
      "----------------------\n",
      "\n",
      "58\n",
      "-----------------------------------------------\n",
      "current digit,  M  =  1000\n",
      "total_by_addition =  1000\n",
      "----------------------\n",
      "\n",
      "\n",
      "subtractive case\n",
      "current digit,  C  =  100\n",
      "next digit,  M  =  1000\n",
      "total_by_subtraction =  1900\n",
      "----------------------\n",
      "\n",
      "\n",
      "subtractive case\n",
      "current digit,  X  =  10\n",
      "next digit,  C  =  100\n",
      "total_by_subtraction =  1990\n",
      "----------------------\n",
      "\n",
      "\n",
      "subtractive case\n",
      "current digit,  I  =  1\n",
      "next digit,  V  =  5\n",
      "total_by_subtraction =  1994\n",
      "----------------------\n",
      "\n",
      "1994\n"
     ]
    }
   ],
   "source": [
    "p4_example_1 = romanToInt(\"III\")\n",
    "print(p4_example_1)\n",
    "\n",
    "print(\"-----------------------------------------------\")\n",
    "\n",
    "p4_example_2 = romanToInt(\"IV\")\n",
    "print(p4_example_2)\n",
    "\n",
    "print(\"-----------------------------------------------\")\n",
    "\n",
    "p4_example_3 = romanToInt(\"IX\")\n",
    "print(p4_example_3)\n",
    "\n",
    "print(\"-----------------------------------------------\")\n",
    "\n",
    "p4_example_4 = romanToInt(\"LVIII\")\n",
    "print(p4_example_4)\n",
    "\n",
    "print(\"-----------------------------------------------\")\n",
    "\n",
    "p4_example_5 = romanToInt(\"MCMXCIV\")\n",
    "print(p4_example_5)"
   ]
  },
  {
   "cell_type": "markdown",
   "metadata": {},
   "source": [
    "#### Another Solution"
   ]
  },
  {
   "cell_type": "code",
   "execution_count": 3,
   "metadata": {},
   "outputs": [],
   "source": [
    "class Solution:\n",
    "    def romanToInt(self, s: str) -> int:\n",
    "        values = {\n",
    "            \"I\": 1,\n",
    "            \"V\": 5,\n",
    "            \"X\": 10,\n",
    "            \"L\": 50,\n",
    "            \"C\": 100,\n",
    "            \"D\": 500,\n",
    "            \"M\": 1000\n",
    "        }\n",
    "\n",
    "        total = 0\n",
    "        i = 0\n",
    "        while i < len(s):\n",
    "            # Check subtraction case\n",
    "            if i + 1 < len(s) and values[s[i]] < values[s[i + 1]]:\n",
    "                total += values[s[i + 1]] - values[s[i]]\n",
    "                i += 2\n",
    "            else:\n",
    "                total += values[s[i]]\n",
    "                i += 1\n",
    "        return total\n"
   ]
  },
  {
   "cell_type": "code",
   "execution_count": 4,
   "metadata": {},
   "outputs": [
    {
     "name": "stdout",
     "output_type": "stream",
     "text": [
      "current digit,  I  =  1\n",
      "total_by_addition =  1\n",
      "----------------------\n",
      "\n",
      "current digit,  I  =  1\n",
      "total_by_addition =  2\n",
      "----------------------\n",
      "\n",
      "current digit,  I  =  1\n",
      "total_by_addition =  3\n",
      "----------------------\n",
      "\n"
     ]
    },
    {
     "data": {
      "text/plain": [
       "3"
      ]
     },
     "execution_count": 4,
     "metadata": {},
     "output_type": "execute_result"
    }
   ],
   "source": [
    "new = romanToInt(\"III\")\n",
    "new"
   ]
  },
  {
   "cell_type": "code",
   "execution_count": 5,
   "metadata": {},
   "outputs": [
    {
     "name": "stdout",
     "output_type": "stream",
     "text": [
      "current digit,  L  =  50\n",
      "total_by_addition =  50\n",
      "----------------------\n",
      "\n",
      "current digit,  V  =  5\n",
      "total_by_addition =  55\n",
      "----------------------\n",
      "\n",
      "current digit,  I  =  1\n",
      "total_by_addition =  56\n",
      "----------------------\n",
      "\n",
      "current digit,  I  =  1\n",
      "total_by_addition =  57\n",
      "----------------------\n",
      "\n",
      "current digit,  I  =  1\n",
      "total_by_addition =  58\n",
      "----------------------\n",
      "\n"
     ]
    },
    {
     "data": {
      "text/plain": [
       "58"
      ]
     },
     "execution_count": 5,
     "metadata": {},
     "output_type": "execute_result"
    }
   ],
   "source": [
    "new1 = romanToInt(\"LVIII\")\n",
    "new1"
   ]
  },
  {
   "cell_type": "code",
   "execution_count": null,
   "metadata": {},
   "outputs": [],
   "source": []
  }
 ],
 "metadata": {
  "kernelspec": {
   "display_name": "Python 3",
   "language": "python",
   "name": "python3"
  },
  "language_info": {
   "codemirror_mode": {
    "name": "ipython",
    "version": 3
   },
   "file_extension": ".py",
   "mimetype": "text/x-python",
   "name": "python",
   "nbconvert_exporter": "python",
   "pygments_lexer": "ipython3",
   "version": "3.7.4"
  }
 },
 "nbformat": 4,
 "nbformat_minor": 2
}
