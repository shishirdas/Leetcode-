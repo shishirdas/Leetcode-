{
 "cells": [
  {
   "cell_type": "markdown",
   "metadata": {},
   "source": [
    "#### You own a Goal Parser that can interpret a string command. The command consists of an alphabet of \"G\", \"()\" and/or \"(al)\" in some order. The Goal Parser will interpret \"G\" as the string \"G\", \"()\" as the string \"o\", and \"(al)\" as the string \"al\". The interpreted strings are then concatenated in the original order.<br>\n",
    "\n",
    "Given the string command, return the Goal Parser's interpretation of command.<br>\n",
    "\n",
    "Example 1:\n",
    "\n",
    "Input: command = \"G()(al)\"<br>\n",
    "Output: \"Goal\"<br>\n",
    "Explanation: The Goal Parser interprets the command as follows:<br>\n",
    "G -> G<br>\n",
    "() -> o<br>\n",
    "(al) -> al<br>\n",
    "The final concatenated result is \"Goal\".<br>\n",
    "Example 2:<br>\n",
    "\n",
    "Input: command = \"G()()()()(al)\"<br>\n",
    "Output: \"Gooooal\"<br>\n",
    "Example 3:<br>\n",
    "\n",
    "Input: command = \"(al)G(al)()()G\"<br>\n",
    "Output: \"alGalooG\"<br>\n",
    " \n",
    "\n",
    "Constraints:<br>\n",
    "\n",
    "1 <= command.length <= 100<br>\n",
    "command consists of \"G\", \"()\", and/or \"(al)\" in some order.\n",
    " "
   ]
  },
  {
   "cell_type": "code",
   "execution_count": 10,
   "metadata": {},
   "outputs": [],
   "source": [
    "class Solution:\n",
    "    def interpret(self, command):\n",
    "        return command.replace(\"()\",\"o\").replace(\"(al)\",\"al\")\n",
    "    "
   ]
  },
  {
   "cell_type": "code",
   "execution_count": 11,
   "metadata": {},
   "outputs": [
    {
     "name": "stdout",
     "output_type": "stream",
     "text": [
      "Goal\n"
     ]
    }
   ],
   "source": [
    "sol = Solution()\n",
    "print(sol.interpret(\"G()(al)\"))"
   ]
  },
  {
   "cell_type": "code",
   "execution_count": 12,
   "metadata": {},
   "outputs": [
    {
     "name": "stdout",
     "output_type": "stream",
     "text": [
      "Gooooal\n",
      "alGalooG\n"
     ]
    }
   ],
   "source": [
    "print(sol.interpret(\"G()()()()(al)\"))\n",
    "print(sol.interpret(\"(al)G(al)()()G\"))"
   ]
  },
  {
   "cell_type": "code",
   "execution_count": null,
   "metadata": {},
   "outputs": [],
   "source": []
  }
 ],
 "metadata": {
  "kernelspec": {
   "display_name": "Python 3",
   "language": "python",
   "name": "python3"
  },
  "language_info": {
   "codemirror_mode": {
    "name": "ipython",
    "version": 3
   },
   "file_extension": ".py",
   "mimetype": "text/x-python",
   "name": "python",
   "nbconvert_exporter": "python",
   "pygments_lexer": "ipython3",
   "version": "3.7.4"
  }
 },
 "nbformat": 4,
 "nbformat_minor": 2
}
