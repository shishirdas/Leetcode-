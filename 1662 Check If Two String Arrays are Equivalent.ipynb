{
 "cells": [
  {
   "cell_type": "markdown",
   "metadata": {},
   "source": [
    "<b>Check If Two String Arrays are Equivalent<br></b>\n",
    "\n",
    "Given two string arrays word1 and word2, return true if the two arrays represent the same string, and false otherwise.<br>\n",
    "\n",
    "A string is represented by an array if the array elements concatenated in order forms the string.<br>\n",
    "\n",
    "Example 1:<br>\n",
    "Input: word1 = [\"ab\", \"c\"], word2 = [\"a\", \"bc\"]<br>\n",
    "Output: true\n",
    "Explanation:<br>\n",
    "word1 represents string \"ab\" + \"c\" -> \"abc\"<br>\n",
    "word2 represents string \"a\" + \"bc\" -> \"abc\"\n",
    "The strings are the same, so return true.<br>\n",
    "<br>\n",
    "Example 2:\n",
    "Input: word1 = [\"a\", \"cb\"], word2 = [\"ab\", \"c\"]<br>\n",
    "Output: false\n",
    "<br>\n",
    "\n",
    "Example 3:<br>\n",
    "Input: word1 = [\"abc\", \"d\", \"defg\"], word2 = [\"abcddefg\"]<br>\n",
    "Output: true"
   ]
  },
  {
   "cell_type": "code",
   "execution_count": 2,
   "metadata": {},
   "outputs": [
    {
     "name": "stdout",
     "output_type": "stream",
     "text": [
      "True\n",
      "False\n",
      "True\n"
     ]
    }
   ],
   "source": [
    "def arrayStringsAreEqual(word1, word2):\n",
    "    \n",
    "#     print(\"\".join(word1))\n",
    "#     print(\"\".join(word2))\n",
    "\n",
    "    return \"\".join(word1) == \"\".join(word2)\n",
    "\n",
    "example_1 = arrayStringsAreEqual([\"ab\", \"c\"], [\"a\", \"bc\"])\n",
    "print(example_1)\n",
    "\n",
    "example_2 = arrayStringsAreEqual([\"a\", \"cb\"], [\"ab\", \"c\"])\n",
    "print(example_2)\n",
    "\n",
    "example_3 = arrayStringsAreEqual( [\"abc\", \"d\", \"defg\"], [\"abcddefg\"])\n",
    "print(example_3)"
   ]
  },
  {
   "cell_type": "code",
   "execution_count": null,
   "metadata": {},
   "outputs": [],
   "source": []
  }
 ],
 "metadata": {
  "kernelspec": {
   "display_name": "Python 3",
   "language": "python",
   "name": "python3"
  },
  "language_info": {
   "codemirror_mode": {
    "name": "ipython",
    "version": 3
   },
   "file_extension": ".py",
   "mimetype": "text/x-python",
   "name": "python",
   "nbconvert_exporter": "python",
   "pygments_lexer": "ipython3",
   "version": "3.7.4"
  }
 },
 "nbformat": 4,
 "nbformat_minor": 2
}
