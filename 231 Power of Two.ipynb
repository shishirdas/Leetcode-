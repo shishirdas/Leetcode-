{
 "cells": [
  {
   "cell_type": "markdown",
   "metadata": {},
   "source": [
    "####  Power of Two\n",
    "\n",
    "Given an integer n, return true if it is a power of two. Otherwise, return false.<br>\n",
    "An integer n is a power of two, if there exists an integer x such that n == 2^x.\n",
    "\n",
    "Example 1:<br>\n",
    "Input: n = 1<br>\n",
    "Output: true<br>\n",
    "Explanation: 2^0 = 1\n",
    "<br>\n",
    "Example 2:<br>\n",
    "Input: n = 16<br>\n",
    "Output: true<br>\n",
    "Explanation: 2^4 = 16<br>\n",
    "\n",
    "Example 3:\n",
    "Input: n = 3<br>\n",
    "Output: false<br>\n",
    "\n",
    "Example 4:<br>\n",
    "Input: n = 4<br>\n",
    "Output: true\n",
    "<br>\n",
    "Example 5:\n",
    "Input: n = 5<br>\n",
    "Output: false<br>\n",
    "\n",
    "n == 2^x<br>\n",
    "=> log(n) = log(2^x)<br>\n",
    "=> log(n) = x*log(2)<br>\n",
    "=> x = log(n)/log(2)<br>\n",
    "\n"
   ]
  },
  {
   "cell_type": "code",
   "execution_count": 1,
   "metadata": {},
   "outputs": [],
   "source": [
    "import math\n",
    "\n",
    "def isPowerOfTwo(n):\n",
    "\n",
    "    if n <= 0:\n",
    "        return False\n",
    "\n",
    "    x = math.log10(n)/math.log10(2)\n",
    "    return n == 2**int(x)"
   ]
  },
  {
   "cell_type": "code",
   "execution_count": 2,
   "metadata": {},
   "outputs": [
    {
     "name": "stdout",
     "output_type": "stream",
     "text": [
      "True\n",
      "-----------------------------\n",
      "True\n",
      "-----------------------------\n",
      "False\n",
      "-----------------------------\n",
      "True\n",
      "-----------------------------\n",
      "False\n"
     ]
    }
   ],
   "source": [
    "p1_example_1 = isPowerOfTwo(1)\n",
    "print(p1_example_1)\n",
    "\n",
    "print(\"-----------------------------\")\n",
    "\n",
    "p1_example_2 = isPowerOfTwo(16)\n",
    "print(p1_example_2)\n",
    "\n",
    "print(\"-----------------------------\")\n",
    "\n",
    "p1_example_3 = isPowerOfTwo(3)\n",
    "print(p1_example_3)\n",
    "\n",
    "print(\"-----------------------------\")\n",
    "\n",
    "p1_example_4 = isPowerOfTwo(4)\n",
    "print(p1_example_4)\n",
    "\n",
    "print(\"-----------------------------\")\n",
    "\n",
    "p1_example_5 = isPowerOfTwo(5)\n",
    "print(p1_example_5)\n"
   ]
  },
  {
   "cell_type": "markdown",
   "metadata": {},
   "source": [
    "#### Another Solution"
   ]
  },
  {
   "cell_type": "code",
   "execution_count": 3,
   "metadata": {},
   "outputs": [],
   "source": [
    "def isPowerOfTwo(n: int) -> bool:\n",
    "    if n <= 0:\n",
    "        return False\n",
    "    while n % 2 == 0:\n",
    "        n //= 2\n",
    "    return n == 1\n"
   ]
  },
  {
   "cell_type": "code",
   "execution_count": 4,
   "metadata": {},
   "outputs": [],
   "source": [
    "new = isPowerOfTwo(16)"
   ]
  },
  {
   "cell_type": "code",
   "execution_count": 5,
   "metadata": {},
   "outputs": [
    {
     "name": "stdout",
     "output_type": "stream",
     "text": [
      "True\n"
     ]
    }
   ],
   "source": [
    "print(new)"
   ]
  },
  {
   "cell_type": "markdown",
   "metadata": {},
   "source": [
    "### Another Solution"
   ]
  },
  {
   "cell_type": "code",
   "execution_count": 6,
   "metadata": {},
   "outputs": [],
   "source": [
    "class Solution:\n",
    "    def isPowerOfTwo(self, n: int) -> bool:\n",
    "        \n",
    "        return n > 0 and (n & (n - 1)) == 0"
   ]
  },
  {
   "cell_type": "code",
   "execution_count": 10,
   "metadata": {},
   "outputs": [],
   "source": [
    "new1 = isPowerOfTwo(8)"
   ]
  },
  {
   "cell_type": "code",
   "execution_count": 11,
   "metadata": {},
   "outputs": [
    {
     "data": {
      "text/plain": [
       "True"
      ]
     },
     "execution_count": 11,
     "metadata": {},
     "output_type": "execute_result"
    }
   ],
   "source": [
    "new1"
   ]
  },
  {
   "cell_type": "code",
   "execution_count": null,
   "metadata": {},
   "outputs": [],
   "source": []
  }
 ],
 "metadata": {
  "kernelspec": {
   "display_name": "Python 3",
   "language": "python",
   "name": "python3"
  },
  "language_info": {
   "codemirror_mode": {
    "name": "ipython",
    "version": 3
   },
   "file_extension": ".py",
   "mimetype": "text/x-python",
   "name": "python",
   "nbconvert_exporter": "python",
   "pygments_lexer": "ipython3",
   "version": "3.7.4"
  }
 },
 "nbformat": 4,
 "nbformat_minor": 2
}
