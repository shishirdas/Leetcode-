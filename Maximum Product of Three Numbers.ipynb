{
 "cells": [
  {
   "cell_type": "markdown",
   "metadata": {},
   "source": [
    "####  628 Maximum Product of Three Numbers\n",
    "\n",
    "Given an integer array nums, find three numbers whose product is maximum and return the maximum product.\n",
    "\n",
    "Example 1:\n",
    "Input: nums = [1,2,3]<br>\n",
    "Output: 6\n",
    "\n",
    "Example 2:\n",
    "Input: nums = [1,2,3,4]<br>\n",
    "Output: 24\n",
    "\n",
    "Example 3:\n",
    "Input: nums = [-1,-2,-3]<br>\n",
    "Output: -6"
   ]
  },
  {
   "cell_type": "code",
   "execution_count": 4,
   "metadata": {},
   "outputs": [],
   "source": [
    "#class Solution:\n",
    "    #def maximumProduct(self, nums: List[int]) -> int:\n",
    "example = [-1,2,4,4]\n",
    "\n",
    "def maximumProduct(nums):\n",
    "    \n",
    "    nums = sorted(nums)\n",
    "    print(\"sorted nums = \", nums)\n",
    "    \n",
    "    prod_1 = nums[0]*nums[1]*nums[-1]\n",
    "    print(\"prod_1 = \", prod_1)\n",
    "    prod_2 = nums[-1]*nums[-2]*nums[-3]\n",
    "    print(\"prod_2 = \", prod_2)\n",
    "    \n",
    "    return max(prod_1, prod_2)\n",
    "        "
   ]
  },
  {
   "cell_type": "code",
   "execution_count": 5,
   "metadata": {},
   "outputs": [
    {
     "name": "stdout",
     "output_type": "stream",
     "text": [
      "sorted nums =  [1, 2, 3]\n",
      "prod_1 =  6\n",
      "prod_2 =  6\n",
      "6\n",
      "----------------------------------------\n",
      "sorted nums =  [1, 2, 3, 4]\n",
      "prod_1 =  8\n",
      "prod_2 =  24\n",
      "24\n",
      "----------------------------------------\n",
      "sorted nums =  [-4, -2, -1, 1, 2, 6]\n",
      "prod_1 =  48\n",
      "prod_2 =  12\n",
      "48\n"
     ]
    }
   ],
   "source": [
    "p1_example_1 = maximumProduct([1,2,3])\n",
    "print(p1_example_1)\n",
    "print(\"----------------------------------------\")\n",
    "\n",
    "p1_example_2 = maximumProduct([1,2,3,4])\n",
    "print(p1_example_2)\n",
    "print(\"----------------------------------------\")\n",
    "\n",
    "p1_example_3 = maximumProduct([-1,-2,-4,1,2,6])\n",
    "print(p1_example_3)"
   ]
  },
  {
   "cell_type": "code",
   "execution_count": null,
   "metadata": {},
   "outputs": [],
   "source": []
  }
 ],
 "metadata": {
  "kernelspec": {
   "display_name": "Python 3",
   "language": "python",
   "name": "python3"
  },
  "language_info": {
   "codemirror_mode": {
    "name": "ipython",
    "version": 3
   },
   "file_extension": ".py",
   "mimetype": "text/x-python",
   "name": "python",
   "nbconvert_exporter": "python",
   "pygments_lexer": "ipython3",
   "version": "3.7.4"
  }
 },
 "nbformat": 4,
 "nbformat_minor": 2
}
