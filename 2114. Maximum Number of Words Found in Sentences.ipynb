{
 "cells": [
  {
   "cell_type": "markdown",
   "metadata": {},
   "source": [
    "#### A sentence is a list of words that are separated by a single space with no leading or trailing spaces.\n",
    "\n",
    "You are given an array of strings sentences, where each sentences[i] represents a single sentence.<br>\n",
    "\n",
    "Return the maximum number of words that appear in a single sentence.<br>\n",
    "\n",
    "Example 1:\n",
    "\n",
    "Input: sentences = [\"alice and bob love leetcode\", \"i think so too\", \"this is great thanks very much\"]<br>\n",
    "Output: 6<br>\n",
    "Explanation: <br>\n",
    "- The first sentence, \"alice and bob love leetcode\", has 5 words in total.\n",
    "- The second sentence, \"i think so too\", has 4 words in total.<br>\n",
    "- The third sentence, \"this is great thanks very much\", has 6 words in total.<br>\n",
    "Thus, the maximum number of words in a single sentence comes from the third sentence, which has 6 words.\n",
    " \n",
    " "
   ]
  },
  {
   "cell_type": "code",
   "execution_count": 13,
   "metadata": {},
   "outputs": [],
   "source": [
    "class Solution:\n",
    "    def mostWordsFound(self, sentences):\n",
    "        maxlenth = 0\n",
    "        for sentence in sentences:\n",
    "            split_list = sentence.split()\n",
    "            split_list_lenth = len(split_list)\n",
    "            \n",
    "            if split_list_lenth > maxlenth :\n",
    "                maxlenth = split_list_lenth\n",
    "                \n",
    "        return maxlenth\n",
    "            \n",
    "\n",
    "        "
   ]
  },
  {
   "cell_type": "code",
   "execution_count": 14,
   "metadata": {},
   "outputs": [
    {
     "name": "stdout",
     "output_type": "stream",
     "text": [
      "6\n"
     ]
    }
   ],
   "source": [
    "sol = Solution()\n",
    "print(sol.mostWordsFound([\"alice and bob love leetcode\", \"i think so too\", \"this is great thanks very much\"])) "
   ]
  },
  {
   "cell_type": "code",
   "execution_count": 15,
   "metadata": {},
   "outputs": [
    {
     "name": "stdout",
     "output_type": "stream",
     "text": [
      "3\n"
     ]
    }
   ],
   "source": [
    "print(sol.mostWordsFound([\"please wait\", \"continue to fight\", \"continue to win\"])) "
   ]
  },
  {
   "cell_type": "code",
   "execution_count": null,
   "metadata": {},
   "outputs": [],
   "source": []
  }
 ],
 "metadata": {
  "kernelspec": {
   "display_name": "Python 3",
   "language": "python",
   "name": "python3"
  },
  "language_info": {
   "codemirror_mode": {
    "name": "ipython",
    "version": 3
   },
   "file_extension": ".py",
   "mimetype": "text/x-python",
   "name": "python",
   "nbconvert_exporter": "python",
   "pygments_lexer": "ipython3",
   "version": "3.7.4"
  }
 },
 "nbformat": 4,
 "nbformat_minor": 2
}
